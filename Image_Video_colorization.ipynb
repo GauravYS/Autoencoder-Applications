{
  "cells": [
    {
      "cell_type": "code",
      "execution_count": null,
      "id": "0cef985b",
      "metadata": {
        "id": "0cef985b",
        "outputId": "094afa90-04e3-446c-dbd3-fbe2572c06bd"
      },
      "outputs": [
        {
          "name": "stdout",
          "output_type": "stream",
          "text": [
            "Requirement already satisfied: opencv-python in c:\\users\\gaurav\\anaconda3\\lib\\site-packages (4.7.0.72)\n",
            "Requirement already satisfied: numpy>=1.19.3 in c:\\users\\gaurav\\anaconda3\\lib\\site-packages (from opencv-python) (1.23.5)\n"
          ]
        }
      ],
      "source": [
        "# Import statements\n",
        "!pip install opencv-python\n",
        "\n",
        "import numpy as np\n",
        "import argparse\n",
        "import cv2\n",
        "import os"
      ]
    },
    {
      "cell_type": "code",
      "execution_count": null,
      "id": "261bb748",
      "metadata": {
        "id": "261bb748"
      },
      "outputs": [],
      "source": [
        "# Paths to load the model\n",
        "DIR = r\"C:\\Users\\Gaurav\"\n",
        "PROTOTXT = os.path.join(DIR, r\"colorize/colorization_deploy_v2.prototxt\")\n",
        "POINTS = os.path.join(DIR, r\"colorize/pts_in_hull.npy\")\n",
        "MODEL = os.path.join(DIR, r\"colorize/colorization_release_v2.caffemodel\")\n",
        "\n"
      ]
    },
    {
      "cell_type": "code",
      "execution_count": null,
      "id": "8c75b5c0",
      "metadata": {
        "id": "8c75b5c0",
        "outputId": "9206cab1-65d4-400e-db33-853a27dc23a6"
      },
      "outputs": [
        {
          "name": "stdout",
          "output_type": "stream",
          "text": [
            "Loading model...\n",
            "Colorizing the image...\n"
          ]
        }
      ],
      "source": [
        "# Load the model\n",
        "print(\"Loading model...\")\n",
        "net = cv2.dnn.readNetFromCaffe(PROTOTXT, MODEL)\n",
        "pts = np.load(POINTS)\n",
        "\n",
        "# Load centers for ab channel quantization used for rebalancing.\n",
        "class8 = net.getLayerId(\"class8_ab\")\n",
        "conv8 = net.getLayerId(\"conv8_313_rh\")\n",
        "pts = pts.transpose().reshape(2, 313, 1, 1)\n",
        "net.getLayer(class8).blobs = [pts.astype(\"float32\")]\n",
        "net.getLayer(conv8).blobs = [np.full([1, 313], 2.606, dtype=\"float32\")]\n",
        "\n",
        "# Load the input image\n",
        "image_path = r\"C:\\Users\\Gaurav\\Downloads\\Black_and_white.jpg\"\n",
        "image = cv2.imread(image_path)\n",
        "scaled = image.astype(\"float32\") / 255.0\n",
        "lab = cv2.cvtColor(scaled, cv2.COLOR_BGR2LAB)\n",
        "\n",
        "resized = cv2.resize(lab, (224, 224))\n",
        "L = cv2.split(resized)[0]\n",
        "L -= 50\n",
        "\n",
        "print(\"Colorizing the image...\")\n",
        "# Set the input for the network by creating a blob from the image L channel\n",
        "net.setInput(cv2.dnn.blobFromImage(L))\n",
        "# Perform forward pass through the network and obtain the predicted ab channels\n",
        "ab = net.forward()[0, :, :, :].transpose((1, 2, 0))\n",
        "# Resize the predicted ab channels to match the size of the original image\n",
        "ab = cv2.resize(ab, (image.shape[1], image.shape[0]))\n",
        "\n",
        "L = cv2.split(lab)[0]\n",
        "# Concatenate the L channel with the predicted ab channels\n",
        "colorized = np.concatenate((L[:, :, np.newaxis], ab), axis=2)\n",
        "#Convert to BGR color space\n",
        "colorized = cv2.cvtColor(colorized, cv2.COLOR_LAB2BGR)\n",
        "#Clip within (0,1) range\n",
        "colorized = np.clip(colorized, 0, 1)\n",
        "\n",
        "colorized = (255 * colorized).astype(\"uint8\")\n",
        "\n",
        "#Display the original and colorized image\n",
        "cv2.imshow(\"Original\", image)\n",
        "cv2.imshow(\"Colorized\", colorized)\n",
        "\n",
        "#Wait for a key press and then close all windows\n",
        "cv2.waitKey(0)\n",
        "cv2.destroyAllWindows()"
      ]
    },
    {
      "cell_type": "code",
      "execution_count": null,
      "id": "cfac86bc",
      "metadata": {
        "id": "cfac86bc",
        "outputId": "36b8540c-e557-4259-ffb5-d4abedf89563"
      },
      "outputs": [
        {
          "name": "stdout",
          "output_type": "stream",
          "text": [
            "Loading model...\n",
            "Colorization completed. Colorized video saved to C:\\Users\\Gaurav\\Downloads\\colorized_video.mp4\n"
          ]
        }
      ],
      "source": [
        "# Load the model\n",
        "print(\"Loading model...\")\n",
        "net = cv2.dnn.readNetFromCaffe(PROTOTXT, MODEL)\n",
        "pts = np.load(POINTS)\n",
        "\n",
        "# Load centers for ab channel quantization used for rebalancing.\n",
        "class8 = net.getLayerId(\"class8_ab\")\n",
        "conv8 = net.getLayerId(\"conv8_313_rh\")\n",
        "pts = pts.transpose().reshape(2, 313, 1, 1)\n",
        "net.getLayer(class8).blobs = [pts.astype(\"float32\")]\n",
        "net.getLayer(conv8).blobs = [np.full([1, 313], 2.606, dtype=\"float32\")]\n",
        "\n",
        "# Load the input video\n",
        "video_path = r\"C:\\Users\\Gaurav\\Downloads\\Video_frame.mp4\"\n",
        "output_path = r\"C:\\Users\\Gaurav\\Downloads\\colorized_video.mp4\"\n",
        "\n",
        "cap = cv2.VideoCapture(video_path)\n",
        "fps = cap.get(cv2.CAP_PROP_FPS)\n",
        "frame_width = int(cap.get(cv2.CAP_PROP_FRAME_WIDTH))\n",
        "frame_height = int(cap.get(cv2.CAP_PROP_FRAME_HEIGHT))\n",
        "fourcc = cv2.VideoWriter_fourcc(*\"mp4v\")\n",
        "out = cv2.VideoWriter(output_path, fourcc, fps, (frame_width, frame_height))\n",
        "\n",
        "\n",
        "# Loop through the frames of the video until there are no more frames\n",
        "# Perform colorization on each frame and display the original and colorized frames\n",
        "# The loop can be exited by pressing 'q' key\n",
        "while True:\n",
        "\n",
        "    ret, frame = cap.read()\n",
        "\n",
        "    if not ret:\n",
        "        break\n",
        "\n",
        "    scaled = frame.astype(\"float32\") / 255.0\n",
        "    lab = cv2.cvtColor(scaled, cv2.COLOR_BGR2LAB)\n",
        "    resized = cv2.resize(lab, (224, 224))\n",
        "    L = cv2.split(resized)[0]\n",
        "    L -= 50\n",
        "\n",
        "    net.setInput(cv2.dnn.blobFromImage(L))\n",
        "    ab = net.forward()[0, :, :, :].transpose((1, 2, 0))\n",
        "    ab = cv2.resize(ab, (frame.shape[1], frame.shape[0]))\n",
        "\n",
        "    L = cv2.split(lab)[0]\n",
        "    colorized = np.concatenate((L[:, :, np.newaxis], ab), axis=2)\n",
        "    colorized = cv2.cvtColor(colorized, cv2.COLOR_LAB2BGR)\n",
        "    colorized = np.clip(colorized, 0, 1)\n",
        "    colorized = (255 * colorized).astype(\"uint8\")\n",
        "\n",
        "    out.write(colorized)\n",
        "\n",
        "    cv2.imshow(\"Original\", frame)\n",
        "    cv2.imshow(\"Colorized\", colorized)\n",
        "    if cv2.waitKey(1) & 0xFF == ord(\"q\"):\n",
        "        break\n",
        "\n",
        "cap.release()\n",
        "out.release()\n",
        "cv2.destroyAllWindows()\n",
        "\n",
        "print(\"Colorization completed. Colorized video saved to\", output_path)\n"
      ]
    }
  ],
  "metadata": {
    "kernelspec": {
      "display_name": "Python 3 (ipykernel)",
      "language": "python",
      "name": "python3"
    },
    "language_info": {
      "codemirror_mode": {
        "name": "ipython",
        "version": 3
      },
      "file_extension": ".py",
      "mimetype": "text/x-python",
      "name": "python",
      "nbconvert_exporter": "python",
      "pygments_lexer": "ipython3",
      "version": "3.10.9"
    },
    "colab": {
      "provenance": []
    }
  },
  "nbformat": 4,
  "nbformat_minor": 5
}